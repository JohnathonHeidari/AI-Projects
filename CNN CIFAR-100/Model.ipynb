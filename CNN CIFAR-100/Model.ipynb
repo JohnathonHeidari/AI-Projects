{
 "cells": [
  {
   "cell_type": "code",
   "execution_count": 1,
   "id": "63f86b86-e44a-440c-9ac3-3671e9c79d43",
   "metadata": {},
   "outputs": [],
   "source": [
    "import torch\n",
    "from torch import nn, optim\n",
    "import torch.nn.functional as F\n",
    "import torchvision.datasets as dsets\n",
    "import torchvision.transforms as transforms\n",
    "from torch.utils.data import DataLoader, random_split, TensorDataset\n",
    "import matplotlib.pyplot as plt\n",
    "import ray\n",
    "from ray import tune, train\n",
    "\n",
    "\n",
    "device = 'cuda' if torch.cuda.is_available() else 'cpu'"
   ]
  },
  {
   "cell_type": "code",
   "execution_count": 2,
   "id": "d9fb7e82-f461-4617-93d4-e65a64d58478",
   "metadata": {},
   "outputs": [
    {
     "name": "stdout",
     "output_type": "stream",
     "text": [
      "Files already downloaded and verified\n",
      "Files already downloaded and verified\n"
     ]
    }
   ],
   "source": [
    "# Import datasets from torchvision.datasets libary\n",
    "cifar100_train = dsets.CIFAR100(root='CIFAR100/', train=True, transform=transforms.ToTensor(), download=True)\n",
    "cifar100_test = dsets.CIFAR100(root='CIFAR100/', train=False, transform=transforms.ToTensor(), download=True)"
   ]
  },
  {
   "cell_type": "code",
   "execution_count": 3,
   "id": "09c7f56b-9b9b-47ee-8ce2-639b5d6b318f",
   "metadata": {},
   "outputs": [
    {
     "name": "stdout",
     "output_type": "stream",
     "text": [
      "['apple', 'aquarium_fish', 'baby', 'bear', 'beaver', 'bed', 'bee', 'beetle', 'bicycle', 'bottle', 'bowl', 'boy', 'bridge', 'bus', 'butterfly', 'camel', 'can', 'castle', 'caterpillar', 'cattle', 'chair', 'chimpanzee', 'clock', 'cloud', 'cockroach', 'couch', 'crab', 'crocodile', 'cup', 'dinosaur', 'dolphin', 'elephant', 'flatfish', 'forest', 'fox', 'girl', 'hamster', 'house', 'kangaroo', 'keyboard', 'lamp', 'lawn_mower', 'leopard', 'lion', 'lizard', 'lobster', 'man', 'maple_tree', 'motorcycle', 'mountain', 'mouse', 'mushroom', 'oak_tree', 'orange', 'orchid', 'otter', 'palm_tree', 'pear', 'pickup_truck', 'pine_tree', 'plain', 'plate', 'poppy', 'porcupine', 'possum', 'rabbit', 'raccoon', 'ray', 'road', 'rocket', 'rose', 'sea', 'seal', 'shark', 'shrew', 'skunk', 'skyscraper', 'snail', 'snake', 'spider', 'squirrel', 'streetcar', 'sunflower', 'sweet_pepper', 'table', 'tank', 'telephone', 'television', 'tiger', 'tractor', 'train', 'trout', 'tulip', 'turtle', 'wardrobe', 'whale', 'willow_tree', 'wolf', 'woman', 'worm']\n",
      "(50000, 32, 32, 3)\n",
      "(10000, 32, 32, 3)\n",
      "<class 'torchvision.datasets.cifar.CIFAR100'>\n"
     ]
    }
   ],
   "source": [
    "# Checking if the classes in cifar100 arent superclasses\n",
    "print(cifar100_train.classes)\n",
    "print(cifar100_train.data.shape)\n",
    "print(cifar100_test.data.shape)\n",
    "print(type(cifar100_train))\n",
    "# checking the dimensions of cifar100 training and test sets"
   ]
  },
  {
   "cell_type": "code",
   "execution_count": 4,
   "id": "eb10654d-9b03-45fa-a3f8-98d43fd37261",
   "metadata": {},
   "outputs": [
    {
     "name": "stdout",
     "output_type": "stream",
     "text": [
      "(32, 32, 3)\n"
     ]
    },
    {
     "data": {
      "image/png": "[encoded data removed]",
      "text/plain": [
       "<Figure size 640x480 with 1 Axes>"
      ]
     },
     "metadata": {},
     "output_type": "display_data"
    }
   ],
   "source": [
    "# Get the first image and its label\n",
    "img, lab = cifar100_train[0]\n",
    "# Transpose the image shape from (C, H, W) to (H, W, C) for plotting\n",
    "img = img.numpy().transpose(1, 2, 0)\n",
    "print(img.shape)\n",
    "# Plot the image\n",
    "plt.imshow(img)\n",
    "plt.title(f'Label: {cifar100_train.classes[lab]}')\n",
    "plt.show()"
   ]
  },
  {
   "cell_type": "code",
   "execution_count": 5,
   "id": "b6592855-641a-459c-bc0e-0f9b9abd4bf9",
   "metadata": {},
   "outputs": [
    {
     "name": "stdout",
     "output_type": "stream",
     "text": [
      "num_train: 40000\n",
      "num_validate: 10000\n"
     ]
    }
   ],
   "source": [
    "# Determine the sizes of the splits to ensure it is 1/5\n",
    "num_validate = int(len(cifar100_train)/5)\n",
    "num_train = len(cifar100_train) - num_validate\n",
    "print(f'num_train: {num_train}')\n",
    "print(f'num_validate: {num_validate}')\n",
    "subtrain_dataset, validation_dataset = random_split(cifar100_train, [num_train, num_validate])"
   ]
  },
  {
   "cell_type": "code",
   "execution_count": 6,
   "id": "a6fdfb27-e95d-448a-9c7a-1c3756ddfe51",
   "metadata": {},
   "outputs": [],
   "source": [
    "# Model of a simpel CNN\n",
    "\n",
    "class CNN(nn.Module):\n",
    "    def __init__(self):\n",
    "        super(CNN, self).__init__()\n",
    "        \n",
    "        # Convolution Block 1\n",
    "        self.conv1_1 = nn.Conv2d(in_channels=3, out_channels=256, kernel_size=3, padding=1)\n",
    "        self.bn1_1 = nn.BatchNorm2d(256)\n",
    "        self.conv1_2 = nn.Conv2d(in_channels=256, out_channels=256, kernel_size=3, padding=1)\n",
    "        self.bn1_2 = nn.BatchNorm2d(256)\n",
    "        self.pool1 = nn.MaxPool2d(kernel_size=2, stride=2)\n",
    "        self.dropout1 = nn.Dropout(0.2)\n",
    "        \n",
    "        # Convolution Block 2\n",
    "        self.conv2_1 = nn.Conv2d(in_channels=256, out_channels=512, kernel_size=3, padding=1)\n",
    "        self.bn2_1 = nn.BatchNorm2d(512)\n",
    "        self.conv2_2 = nn.Conv2d(in_channels=512, out_channels=512, kernel_size=3, padding=1)\n",
    "        self.bn2_2 = nn.BatchNorm2d(512)\n",
    "        self.pool2 = nn.MaxPool2d(kernel_size=2, stride=2)\n",
    "        self.dropout2 = nn.Dropout(0.2)\n",
    "        \n",
    "        # Convolution Block 3\n",
    "        self.conv3_1 = nn.Conv2d(in_channels=512, out_channels=512, kernel_size=3, padding=1)\n",
    "        self.bn3_1 = nn.BatchNorm2d(512)\n",
    "        self.conv3_2 = nn.Conv2d(in_channels=512, out_channels=512, kernel_size=3, padding=1)\n",
    "        self.bn3_2 = nn.BatchNorm2d(512)\n",
    "        self.pool3 = nn.MaxPool2d(kernel_size=2, stride=2)\n",
    "        self.dropout3 = nn.Dropout(0.2)\n",
    "\n",
    "        # Convolution Block 4\n",
    "        self.conv4_1 = nn.Conv2d(in_channels=512, out_channels=512, kernel_size=3, padding=1)\n",
    "        self.bn4_1 = nn.BatchNorm2d(512)\n",
    "        self.conv4_2 = nn.Conv2d(in_channels=512, out_channels=512, kernel_size=3, padding=1)\n",
    "        self.bn4_2 = nn.BatchNorm2d(512)\n",
    "        self.pool4 = nn.MaxPool2d(kernel_size=2, stride=2)\n",
    "        self.dropout4 = nn.Dropout(0.2)\n",
    "\n",
    "        # Fully Connected Layers\n",
    "        self.fc1 = nn.Linear(512 * 2 * 2, 1024)  # Adjust the flattened size accordingly\n",
    "        self.bn_fc = nn.BatchNorm1d(1024, momentum=0.95, eps=0.005)\n",
    "        self.dropout_fc = nn.Dropout(0.2)\n",
    "        self.fc2 = nn.Linear(1024, 100)  # 100 classes for CIFAR-100\n",
    "\n",
    "    def forward(self, x):\n",
    "        # Convolution Block 1\n",
    "        x = self.dropout1(self.pool1(F.relu(self.bn1_2(F.relu(self.bn1_1(self.conv1_1(x)))))))\n",
    "        \n",
    "        # Convolution Block 2\n",
    "        x = self.dropout2(self.pool2(F.relu(self.bn2_2(F.relu(self.bn2_1(self.conv2_1(x)))))))\n",
    "        \n",
    "        # Convolution Block 3\n",
    "        x = self.dropout3(self.pool3(F.relu(self.bn3_2(F.relu(self.bn3_1(self.conv3_1(x)))))))\n",
    "\n",
    "        # Convolution Block 4\n",
    "        x = self.dropout4(self.pool4(F.relu(self.bn4_2(F.relu(self.bn4_1(self.conv4_1(x)))))))\n",
    "\n",
    "        # Flatten and Fully Connected Layers\n",
    "        x = x.view(x.size(0), -1)  # Flatten\n",
    "        x = self.dropout_fc(F.relu(self.bn_fc(self.fc1(x))))\n",
    "        x = self.fc2(x)\n",
    "        return F.log_softmax(x, dim=1)\n"
   ]
  },
  {
   "cell_type": "code",
   "execution_count": 10,
   "id": "78819dd3-7148-4f94-9f4f-a2e5afaea89c",
   "metadata": {},
   "outputs": [],
   "source": [
    "def train_val_model(config):\n",
    "    model = CNN().to(device)\n",
    "\n",
    "    subtrain_loader = DataLoader(subtrain_dataset, batch_size=config[\"batch_size\"], shuffle=True)\n",
    "    validation_loader = DataLoader(validation_dataset, batch_size=config[\"batch_size\"], shuffle=False)\n",
    "    criterion = nn.CrossEntropyLoss().to(device)\n",
    "    optimizer= optim.RMSprop(model.parameters(),lr=config[\"lr\"])\n",
    "    # optimizer= optim.RMSprop(model.parameters(),lr=1e-4)\n",
    "\n",
    "    \n",
    "    tr_acc = []\n",
    "    tr_loss = []\n",
    "    \n",
    "    val_acc = []\n",
    "    val_loss = []\n",
    "    \n",
    "    total_batch = len(subtrain_loader)\n",
    "    num_epochs = 350\n",
    "    for epoch in range(num_epochs):\n",
    "        model.train()\n",
    "        running_loss = 0.0\n",
    "        total_train = 0\n",
    "        correct_train = 0\n",
    "        for images, labels in subtrain_loader:\n",
    "            images, labels = images.to(device), labels.to(device)\n",
    "            \n",
    "            # Forward pass\n",
    "            outputs = model(images)\n",
    "            loss = criterion(outputs, labels)\n",
    "    \n",
    "            # Calculate predictions for train accuracy\n",
    "            _, predicted = torch.max(outputs.data, 1)\n",
    "            total_train += labels.size(0)\n",
    "            correct_train += (predicted == labels).sum().item()\n",
    "            \n",
    "            # Backward pass and optimization\n",
    "            optimizer.zero_grad()\n",
    "            loss.backward()\n",
    "            optimizer.step()\n",
    "            \n",
    "            running_loss += loss.item()\n",
    "\n",
    "        train_accuracy = correct_train / total_train\n",
    "        tr_acc.append(train_accuracy)\n",
    "        train_loss = running_loss / len(subtrain_loader)\n",
    "        tr_loss.append(train_loss)\n",
    "        \n",
    "        # print(f'Epoch {epoch+1}, Training Loss: {train_loss:.4f}, Training Accuracy: {train_accuracy:.4f}')\n",
    "    \n",
    "        # Validation loop\n",
    "        model.eval()\n",
    "        validation_loss = 0.0\n",
    "        total = 0\n",
    "        correct = 0\n",
    "        with torch.no_grad():\n",
    "            for images, labels in validation_loader:\n",
    "                images, labels = images.to(device), labels.to(device)\n",
    "                outputs = model(images)\n",
    "                loss = criterion(outputs, labels)\n",
    "                validation_loss += loss.item()\n",
    "                _, predicted = torch.max(outputs.data, 1)\n",
    "                total += labels.size(0)\n",
    "                correct += (predicted == labels).sum().item()\n",
    "    \n",
    "        validation_loss /= len(validation_loader)\n",
    "        val_loss.append(validation_loss)\n",
    "        validation_accuracy =  correct / total\n",
    "        val_acc.append(validation_accuracy)\n",
    "        # print(f'Epoch {epoch+1}, Validation Loss: {validation_loss:.4f}, Validation Accuracy: {validation_accuracy:.4f}')  \n",
    "        tune.report(val_accuracy=validation_loss, tr_accuracy=train_accuracy, val_loss=validation_loss, tr_loss=train_loss)\n",
    "    print('Finished Training')\n",
    "    #return tr_acc, tr_loss, val_acc, val_loss\n",
    "\n",
    "\n",
    "def test_model(model,test_loader):\n",
    "    #model = model.to(device)\n",
    "    model.eval()\n",
    "\n",
    "    with torch.no_grad():\n",
    "        total = 0\n",
    "        correct = 0\n",
    "        n_class_correct = [0 for i in range(100)]\n",
    "        n_class_samples = [0 for i in range(100)]\n",
    "        for images, labels in test_loader:\n",
    "            images, labels = images.to(device), labels.to(device)\n",
    "            outputs = model(images)\n",
    "            _, predicted = torch.max(outputs.data, 1)\n",
    "            total += labels.size(0)\n",
    "            correct += (predicted == labels).sum().item()\n",
    "\n",
    "            # for i in range(labels.size(0)):\n",
    "            #     label = labels[i]\n",
    "            #     pred = predicted[i]\n",
    "            #     if (label == pred):\n",
    "            #         n_class_correct[label] += 1\n",
    "            #     n_class_samples[label] += 1\n",
    "                \n",
    "    test_accuracy = correct / total\n",
    "    print(f'Test Accuracy: {test_accuracy:.4f}')\n",
    "    \n",
    "    # for i in range(100):\n",
    "    #     acc = 100.0 * n_class_correct[i] / n_class_samples[i]\n",
    "    #     print(f'Accuracy of {classes[i]}: {acc} %')\n",
    "\n",
    "def plot_model(tr_acc, tr_loss, val_acc, val_loss):\n",
    "    plt.plot(tr_loss, label='Training Loss')\n",
    "    plt.plot(val_loss, label='Validation Loss', color='orange')\n",
    "    plt.xlabel('Epochs')\n",
    "    plt.ylabel('Loss')\n",
    "    plt.legend()\n",
    "    plt.show()\n",
    "    \n",
    "    plt.plot(tr_acc, label='Training Accuracy')\n",
    "    plt.plot(val_acc, label='Validation Accuracy')\n",
    "    plt.xlabel('Epochs')\n",
    "    plt.ylabel('Loss')\n",
    "    plt.legend()\n",
    "    plt.show()\n",
    "    "
   ]
  },
  {
   "cell_type": "code",
   "execution_count": 8,
   "id": "4c24aeb2-b6fc-44aa-b975-050fc4153e43",
   "metadata": {},
   "outputs": [],
   "source": [
    "# define for search space for hyperparameters\n",
    "search_space = {\n",
    "    \"lr\": tune.loguniform(1e-4, 1e-1),\n",
    "    # \"momentum\": tune.uniform(0.1, 0.9),\n",
    "    # \"dampening\": tune.uniform(0.0, 0.5),\n",
    "    \"batch_size\": 64  # Example of tuning batch size as well\n",
    "}\n",
    "\n",
    "\n",
    "# define short name for the trail\n",
    "def short_trial_dirname_creator(trial):\n",
    "    \"\"\"Creates a shorter directory name for the trial.\"\"\"\n",
    "    return f\"trial_{trial.trial_id}\"\n"
   ]
  },
  {
   "cell_type": "code",
   "execution_count": 9,
   "id": "ca1e13cc-831f-45d7-9f27-bbaaadf3aa2e",
   "metadata": {},
   "outputs": [
    {
     "name": "stderr",
     "output_type": "stream",
     "text": [
      "2024-04-14 21:57:16,422\tINFO worker.py:1612 -- Started a local Ray instance. View the dashboard at \u001b[1m\u001b[32mhttp://127.0.0.1:8265 \u001b[39m\u001b[22m\n",
      "2024-04-14 21:57:18,818\tINFO tune.py:657 -- [output] This uses the legacy output and progress reporter, as Jupyter notebooks are not supported by the new engine, yet. For more information, please see https://github.com/ray-project/ray/issues/36949\n",
      "C:\\Users\\Johnn\\anaconda3\\envs\\cuda_test\\lib\\site-packages\\ray\\tune\\tune.py:258: UserWarning: Passing a `local_dir` is deprecated and will be removed in the future. Pass `storage_path` instead or set the `RAY_AIR_LOCAL_CACHE_DIR` environment variable instead.\n",
      "  warnings.warn(\n"
     ]
    },
    {
     "data": {
      "text/html": [],
      "text/plain": [
       "<IPython.core.display.HTML object>"
      ]
     },
     "metadata": {},
     "output_type": "display_data"
    },
    {
     "ename": "ValueError",
     "evalue": "Tracked actor is not managed by this event manager: <TrackedActor 171924513043530157891457166155502041864>",
     "output_type": "error",
     "traceback": [
      "\u001b[1;31m---------------------------------------------------------------------------\u001b[0m",
      "\u001b[1;31mValueError\u001b[0m                                Traceback (most recent call last)",
      "File \u001b[1;32m~\\anaconda3\\envs\\cuda_test\\lib\\site-packages\\ray\\tune\\tune.py:1107\u001b[0m, in \u001b[0;36mrun\u001b[1;34m(run_or_experiment, name, metric, mode, stop, time_budget_s, config, resources_per_trial, num_samples, storage_path, search_alg, scheduler, checkpoint_config, verbose, progress_reporter, log_to_file, trial_name_creator, trial_dirname_creator, chdir_to_trial_dir, sync_config, export_formats, max_failures, fail_fast, restore, server_port, resume, reuse_actors, raise_on_failed_trial, callbacks, max_concurrent_trials, keep_checkpoints_num, checkpoint_score_attr, checkpoint_freq, checkpoint_at_end, checkpoint_keep_all_ranks, checkpoint_upload_from_workers, trial_executor, local_dir, _experiment_checkpoint_dir, _remote, _remote_string_queue, _entrypoint)\u001b[0m\n\u001b[0;32m   1104\u001b[0m \u001b[38;5;28;01mwhile\u001b[39;00m (\n\u001b[0;32m   1105\u001b[0m     \u001b[38;5;129;01mnot\u001b[39;00m runner\u001b[38;5;241m.\u001b[39mis_finished() \u001b[38;5;129;01mand\u001b[39;00m \u001b[38;5;129;01mnot\u001b[39;00m experiment_interrupted_event\u001b[38;5;241m.\u001b[39mis_set()\n\u001b[0;32m   1106\u001b[0m ):\n\u001b[1;32m-> 1107\u001b[0m     \u001b[43mrunner\u001b[49m\u001b[38;5;241;43m.\u001b[39;49m\u001b[43mstep\u001b[49m\u001b[43m(\u001b[49m\u001b[43m)\u001b[49m\n\u001b[0;32m   1108\u001b[0m     \u001b[38;5;28;01mif\u001b[39;00m has_verbosity(Verbosity\u001b[38;5;241m.\u001b[39mV1_EXPERIMENT):\n",
      "File \u001b[1;32m~\\anaconda3\\envs\\cuda_test\\lib\\site-packages\\ray\\tune\\execution\\tune_controller.py:286\u001b[0m, in \u001b[0;36mTuneController.step\u001b[1;34m(self)\u001b[0m\n\u001b[0;32m    285\u001b[0m \u001b[38;5;66;03m# Handle one event\u001b[39;00m\n\u001b[1;32m--> 286\u001b[0m \u001b[38;5;28;01mif\u001b[39;00m \u001b[38;5;129;01mnot\u001b[39;00m \u001b[38;5;28;43mself\u001b[39;49m\u001b[38;5;241;43m.\u001b[39;49m\u001b[43m_actor_manager\u001b[49m\u001b[38;5;241;43m.\u001b[39;49m\u001b[43mnext\u001b[49m\u001b[43m(\u001b[49m\u001b[43mtimeout\u001b[49m\u001b[38;5;241;43m=\u001b[39;49m\u001b[38;5;241;43m0.1\u001b[39;49m\u001b[43m)\u001b[49m:\n\u001b[0;32m    287\u001b[0m     \u001b[38;5;66;03m# If there are no actors running, warn about potentially\u001b[39;00m\n\u001b[0;32m    288\u001b[0m     \u001b[38;5;66;03m# insufficient resources\u001b[39;00m\n\u001b[0;32m    289\u001b[0m     \u001b[38;5;28;01mif\u001b[39;00m \u001b[38;5;129;01mnot\u001b[39;00m \u001b[38;5;28mself\u001b[39m\u001b[38;5;241m.\u001b[39m_actor_manager\u001b[38;5;241m.\u001b[39mnum_live_actors:\n",
      "File \u001b[1;32m~\\anaconda3\\envs\\cuda_test\\lib\\site-packages\\ray\\air\\execution\\_internal\\actor_manager.py:191\u001b[0m, in \u001b[0;36mRayActorManager.next\u001b[1;34m(self, timeout)\u001b[0m\n\u001b[0;32m    190\u001b[0m \u001b[38;5;66;03m# We always try to start actors as this won't trigger an event callback\u001b[39;00m\n\u001b[1;32m--> 191\u001b[0m \u001b[38;5;28;43mself\u001b[39;49m\u001b[38;5;241;43m.\u001b[39;49m\u001b[43m_try_start_actors\u001b[49m\u001b[43m(\u001b[49m\u001b[43m)\u001b[49m\n\u001b[0;32m    193\u001b[0m \u001b[38;5;66;03m# If an actor was killed, this was our event, and we return.\u001b[39;00m\n",
      "File \u001b[1;32m~\\anaconda3\\envs\\cuda_test\\lib\\site-packages\\ray\\air\\execution\\_internal\\actor_manager.py:361\u001b[0m, in \u001b[0;36mRayActorManager._try_start_actors\u001b[1;34m(self, max_actors)\u001b[0m\n\u001b[0;32m    360\u001b[0m \u001b[38;5;66;03m# Start Ray actor\u001b[39;00m\n\u001b[1;32m--> 361\u001b[0m actor \u001b[38;5;241m=\u001b[39m \u001b[43mremote_actor_cls\u001b[49m\u001b[38;5;241;43m.\u001b[39;49m\u001b[43mremote\u001b[49m\u001b[43m(\u001b[49m\u001b[38;5;241;43m*\u001b[39;49m\u001b[38;5;241;43m*\u001b[39;49m\u001b[43mkwargs\u001b[49m\u001b[43m)\u001b[49m\n\u001b[0;32m    363\u001b[0m \u001b[38;5;66;03m# Track\u001b[39;00m\n",
      "File \u001b[1;32m~\\anaconda3\\envs\\cuda_test\\lib\\site-packages\\ray\\actor.py:645\u001b[0m, in \u001b[0;36mActorClass.options.<locals>.ActorOptionWrapper.remote\u001b[1;34m(self, *args, **kwargs)\u001b[0m\n\u001b[0;32m    644\u001b[0m \u001b[38;5;28;01mdef\u001b[39;00m \u001b[38;5;21mremote\u001b[39m(\u001b[38;5;28mself\u001b[39m, \u001b[38;5;241m*\u001b[39margs, \u001b[38;5;241m*\u001b[39m\u001b[38;5;241m*\u001b[39mkwargs):\n\u001b[1;32m--> 645\u001b[0m     \u001b[38;5;28;01mreturn\u001b[39;00m \u001b[43mactor_cls\u001b[49m\u001b[38;5;241;43m.\u001b[39;49m\u001b[43m_remote\u001b[49m\u001b[43m(\u001b[49m\u001b[43margs\u001b[49m\u001b[38;5;241;43m=\u001b[39;49m\u001b[43margs\u001b[49m\u001b[43m,\u001b[49m\u001b[43m \u001b[49m\u001b[43mkwargs\u001b[49m\u001b[38;5;241;43m=\u001b[39;49m\u001b[43mkwargs\u001b[49m\u001b[43m,\u001b[49m\u001b[43m \u001b[49m\u001b[38;5;241;43m*\u001b[39;49m\u001b[38;5;241;43m*\u001b[39;49m\u001b[43mupdated_options\u001b[49m\u001b[43m)\u001b[49m\n",
      "File \u001b[1;32m~\\anaconda3\\envs\\cuda_test\\lib\\site-packages\\ray\\util\\tracing\\tracing_helper.py:385\u001b[0m, in \u001b[0;36m_tracing_actor_creation.<locals>._invocation_actor_class_remote_span\u001b[1;34m(self, args, kwargs, *_args, **_kwargs)\u001b[0m\n\u001b[0;32m    384\u001b[0m     \u001b[38;5;28;01massert\u001b[39;00m \u001b[38;5;124m\"\u001b[39m\u001b[38;5;124m_ray_trace_ctx\u001b[39m\u001b[38;5;124m\"\u001b[39m \u001b[38;5;129;01mnot\u001b[39;00m \u001b[38;5;129;01min\u001b[39;00m kwargs\n\u001b[1;32m--> 385\u001b[0m     \u001b[38;5;28;01mreturn\u001b[39;00m \u001b[43mmethod\u001b[49m\u001b[43m(\u001b[49m\u001b[38;5;28;43mself\u001b[39;49m\u001b[43m,\u001b[49m\u001b[43m \u001b[49m\u001b[43margs\u001b[49m\u001b[43m,\u001b[49m\u001b[43m \u001b[49m\u001b[43mkwargs\u001b[49m\u001b[43m,\u001b[49m\u001b[43m \u001b[49m\u001b[38;5;241;43m*\u001b[39;49m\u001b[43m_args\u001b[49m\u001b[43m,\u001b[49m\u001b[43m \u001b[49m\u001b[38;5;241;43m*\u001b[39;49m\u001b[38;5;241;43m*\u001b[39;49m\u001b[43m_kwargs\u001b[49m\u001b[43m)\u001b[49m\n\u001b[0;32m    387\u001b[0m class_name \u001b[38;5;241m=\u001b[39m \u001b[38;5;28mself\u001b[39m\u001b[38;5;241m.\u001b[39m__ray_metadata__\u001b[38;5;241m.\u001b[39mclass_name\n",
      "File \u001b[1;32m~\\anaconda3\\envs\\cuda_test\\lib\\site-packages\\ray\\actor.py:848\u001b[0m, in \u001b[0;36mActorClass._remote\u001b[1;34m(self, args, kwargs, **actor_options)\u001b[0m\n\u001b[0;32m    844\u001b[0m     \u001b[38;5;66;03m# After serialize / deserialize modified class, the __module__\u001b[39;00m\n\u001b[0;32m    845\u001b[0m     \u001b[38;5;66;03m# of modified class will be ray.cloudpickle.cloudpickle.\u001b[39;00m\n\u001b[0;32m    846\u001b[0m     \u001b[38;5;66;03m# So, here pass actor_creation_function_descriptor to make\u001b[39;00m\n\u001b[0;32m    847\u001b[0m     \u001b[38;5;66;03m# sure export actor class correct.\u001b[39;00m\n\u001b[1;32m--> 848\u001b[0m     \u001b[43mworker\u001b[49m\u001b[38;5;241;43m.\u001b[39;49m\u001b[43mfunction_actor_manager\u001b[49m\u001b[38;5;241;43m.\u001b[39;49m\u001b[43mexport_actor_class\u001b[49m\u001b[43m(\u001b[49m\n\u001b[0;32m    849\u001b[0m \u001b[43m        \u001b[49m\u001b[43mmeta\u001b[49m\u001b[38;5;241;43m.\u001b[39;49m\u001b[43mmodified_class\u001b[49m\u001b[43m,\u001b[49m\n\u001b[0;32m    850\u001b[0m \u001b[43m        \u001b[49m\u001b[43mmeta\u001b[49m\u001b[38;5;241;43m.\u001b[39;49m\u001b[43mactor_creation_function_descriptor\u001b[49m\u001b[43m,\u001b[49m\n\u001b[0;32m    851\u001b[0m \u001b[43m        \u001b[49m\u001b[43mmeta\u001b[49m\u001b[38;5;241;43m.\u001b[39;49m\u001b[43mmethod_meta\u001b[49m\u001b[38;5;241;43m.\u001b[39;49m\u001b[43mmethods\u001b[49m\u001b[38;5;241;43m.\u001b[39;49m\u001b[43mkeys\u001b[49m\u001b[43m(\u001b[49m\u001b[43m)\u001b[49m\u001b[43m,\u001b[49m\n\u001b[0;32m    852\u001b[0m \u001b[43m    \u001b[49m\u001b[43m)\u001b[49m\n\u001b[0;32m    854\u001b[0m resources \u001b[38;5;241m=\u001b[39m ray\u001b[38;5;241m.\u001b[39m_private\u001b[38;5;241m.\u001b[39mutils\u001b[38;5;241m.\u001b[39mresources_from_ray_options(actor_options)\n",
      "File \u001b[1;32m~\\anaconda3\\envs\\cuda_test\\lib\\site-packages\\ray\\_private\\function_manager.py:531\u001b[0m, in \u001b[0;36mFunctionActorManager.export_actor_class\u001b[1;34m(self, Class, actor_creation_function_descriptor, actor_method_names)\u001b[0m\n\u001b[0;32m    522\u001b[0m actor_class_info \u001b[38;5;241m=\u001b[39m {\n\u001b[0;32m    523\u001b[0m     \u001b[38;5;124m\"\u001b[39m\u001b[38;5;124mclass_name\u001b[39m\u001b[38;5;124m\"\u001b[39m: actor_creation_function_descriptor\u001b[38;5;241m.\u001b[39mclass_name\u001b[38;5;241m.\u001b[39msplit(\u001b[38;5;124m\"\u001b[39m\u001b[38;5;124m.\u001b[39m\u001b[38;5;124m\"\u001b[39m)[\u001b[38;5;241m-\u001b[39m\u001b[38;5;241m1\u001b[39m],\n\u001b[0;32m    524\u001b[0m     \u001b[38;5;124m\"\u001b[39m\u001b[38;5;124mmodule\u001b[39m\u001b[38;5;124m\"\u001b[39m: actor_creation_function_descriptor\u001b[38;5;241m.\u001b[39mmodule_name,\n\u001b[1;32m   (...)\u001b[0m\n\u001b[0;32m    528\u001b[0m     \u001b[38;5;124m\"\u001b[39m\u001b[38;5;124mactor_method_names\u001b[39m\u001b[38;5;124m\"\u001b[39m: json\u001b[38;5;241m.\u001b[39mdumps(\u001b[38;5;28mlist\u001b[39m(actor_method_names)),\n\u001b[0;32m    529\u001b[0m }\n\u001b[1;32m--> 531\u001b[0m \u001b[43mcheck_oversized_function\u001b[49m\u001b[43m(\u001b[49m\n\u001b[0;32m    532\u001b[0m \u001b[43m    \u001b[49m\u001b[43mactor_class_info\u001b[49m\u001b[43m[\u001b[49m\u001b[38;5;124;43m\"\u001b[39;49m\u001b[38;5;124;43mclass\u001b[39;49m\u001b[38;5;124;43m\"\u001b[39;49m\u001b[43m]\u001b[49m\u001b[43m,\u001b[49m\n\u001b[0;32m    533\u001b[0m \u001b[43m    \u001b[49m\u001b[43mactor_class_info\u001b[49m\u001b[43m[\u001b[49m\u001b[38;5;124;43m\"\u001b[39;49m\u001b[38;5;124;43mclass_name\u001b[39;49m\u001b[38;5;124;43m\"\u001b[39;49m\u001b[43m]\u001b[49m\u001b[43m,\u001b[49m\n\u001b[0;32m    534\u001b[0m \u001b[43m    \u001b[49m\u001b[38;5;124;43m\"\u001b[39;49m\u001b[38;5;124;43mactor\u001b[39;49m\u001b[38;5;124;43m\"\u001b[39;49m\u001b[43m,\u001b[49m\n\u001b[0;32m    535\u001b[0m \u001b[43m    \u001b[49m\u001b[38;5;28;43mself\u001b[39;49m\u001b[38;5;241;43m.\u001b[39;49m\u001b[43m_worker\u001b[49m\u001b[43m,\u001b[49m\n\u001b[0;32m    536\u001b[0m \u001b[43m\u001b[49m\u001b[43m)\u001b[49m\n\u001b[0;32m    538\u001b[0m \u001b[38;5;28mself\u001b[39m\u001b[38;5;241m.\u001b[39m_worker\u001b[38;5;241m.\u001b[39mgcs_client\u001b[38;5;241m.\u001b[39minternal_kv_put(\n\u001b[0;32m    539\u001b[0m     key, pickle\u001b[38;5;241m.\u001b[39mdumps(actor_class_info), \u001b[38;5;28;01mTrue\u001b[39;00m, KV_NAMESPACE_FUNCTION_TABLE\n\u001b[0;32m    540\u001b[0m )\n",
      "File \u001b[1;32m~\\anaconda3\\envs\\cuda_test\\lib\\site-packages\\ray\\_private\\utils.py:759\u001b[0m, in \u001b[0;36mcheck_oversized_function\u001b[1;34m(pickled, name, obj_type, worker)\u001b[0m\n\u001b[0;32m    748\u001b[0m error \u001b[38;5;241m=\u001b[39m (\n\u001b[0;32m    749\u001b[0m     \u001b[38;5;124m\"\u001b[39m\u001b[38;5;124mThe \u001b[39m\u001b[38;5;132;01m{}\u001b[39;00m\u001b[38;5;124m \u001b[39m\u001b[38;5;132;01m{}\u001b[39;00m\u001b[38;5;124m is too large (\u001b[39m\u001b[38;5;132;01m{}\u001b[39;00m\u001b[38;5;124m MiB > FUNCTION_SIZE_ERROR_THRESHOLD=\u001b[39m\u001b[38;5;132;01m{}\u001b[39;00m\u001b[38;5;124m\"\u001b[39m\n\u001b[0;32m    750\u001b[0m     \u001b[38;5;124m\"\u001b[39m\u001b[38;5;124m MiB). Check that its definition is not implicitly capturing a \u001b[39m\u001b[38;5;124m\"\u001b[39m\n\u001b[1;32m   (...)\u001b[0m\n\u001b[0;32m    757\u001b[0m     ray_constants\u001b[38;5;241m.\u001b[39mFUNCTION_SIZE_ERROR_THRESHOLD \u001b[38;5;241m/\u001b[39m\u001b[38;5;241m/\u001b[39m (\u001b[38;5;241m1024\u001b[39m \u001b[38;5;241m*\u001b[39m \u001b[38;5;241m1024\u001b[39m),\n\u001b[0;32m    758\u001b[0m )\n\u001b[1;32m--> 759\u001b[0m \u001b[38;5;28;01mraise\u001b[39;00m \u001b[38;5;167;01mValueError\u001b[39;00m(error)\n",
      "\u001b[1;31mValueError\u001b[0m: The actor ImplicitFunc is too large (293 MiB > FUNCTION_SIZE_ERROR_THRESHOLD=95 MiB). Check that its definition is not implicitly capturing a large array or other object in scope. Tip: use ray.put() to put large objects in the Ray object store.",
      "\nDuring handling of the above exception, another exception occurred:\n",
      "\u001b[1;31mValueError\u001b[0m                                Traceback (most recent call last)",
      "Cell \u001b[1;32mIn[9], line 5\u001b[0m\n\u001b[0;32m      3\u001b[0m ray\u001b[38;5;241m.\u001b[39minit()\n\u001b[0;32m      4\u001b[0m \u001b[38;5;66;03m# Run the Ray Tune experiment\u001b[39;00m\n\u001b[1;32m----> 5\u001b[0m analysis \u001b[38;5;241m=\u001b[39m \u001b[43mtune\u001b[49m\u001b[38;5;241;43m.\u001b[39;49m\u001b[43mrun\u001b[49m\u001b[43m(\u001b[49m\n\u001b[0;32m      6\u001b[0m \u001b[43m    \u001b[49m\u001b[43mtrain_val_model\u001b[49m\u001b[43m,\u001b[49m\n\u001b[0;32m      7\u001b[0m \u001b[43m    \u001b[49m\u001b[43mresources_per_trial\u001b[49m\u001b[38;5;241;43m=\u001b[39;49m\u001b[43m{\u001b[49m\u001b[38;5;124;43m\"\u001b[39;49m\u001b[38;5;124;43mcpu\u001b[39;49m\u001b[38;5;124;43m\"\u001b[39;49m\u001b[43m:\u001b[49m\u001b[43m \u001b[49m\u001b[38;5;241;43m1\u001b[39;49m\u001b[43m,\u001b[49m\u001b[43m \u001b[49m\u001b[38;5;124;43m\"\u001b[39;49m\u001b[38;5;124;43mgpu\u001b[39;49m\u001b[38;5;124;43m\"\u001b[39;49m\u001b[43m:\u001b[49m\u001b[43m \u001b[49m\u001b[38;5;241;43m1\u001b[39;49m\u001b[43m \u001b[49m\u001b[38;5;28;43;01mif\u001b[39;49;00m\u001b[43m \u001b[49m\u001b[43mtorch\u001b[49m\u001b[38;5;241;43m.\u001b[39;49m\u001b[43mcuda\u001b[49m\u001b[38;5;241;43m.\u001b[39;49m\u001b[43mis_available\u001b[49m\u001b[43m(\u001b[49m\u001b[43m)\u001b[49m\u001b[43m \u001b[49m\u001b[38;5;28;43;01melse\u001b[39;49;00m\u001b[43m \u001b[49m\u001b[38;5;241;43m0\u001b[39;49m\u001b[43m}\u001b[49m\u001b[43m,\u001b[49m\n\u001b[0;32m      8\u001b[0m \u001b[43m    \u001b[49m\u001b[43mconfig\u001b[49m\u001b[38;5;241;43m=\u001b[39;49m\u001b[43msearch_space\u001b[49m\u001b[43m,\u001b[49m\n\u001b[0;32m      9\u001b[0m \u001b[43m    \u001b[49m\u001b[43mnum_samples\u001b[49m\u001b[38;5;241;43m=\u001b[39;49m\u001b[38;5;241;43m10\u001b[39;49m\u001b[43m,\u001b[49m\n\u001b[0;32m     10\u001b[0m \u001b[43m    \u001b[49m\u001b[43mmetric\u001b[49m\u001b[38;5;241;43m=\u001b[39;49m\u001b[38;5;124;43m\"\u001b[39;49m\u001b[38;5;124;43mval_accuracy\u001b[39;49m\u001b[38;5;124;43m\"\u001b[39;49m\u001b[43m,\u001b[49m\n\u001b[0;32m     11\u001b[0m \u001b[43m    \u001b[49m\u001b[43mmode\u001b[49m\u001b[38;5;241;43m=\u001b[39;49m\u001b[38;5;124;43m\"\u001b[39;49m\u001b[38;5;124;43mmax\u001b[39;49m\u001b[38;5;124;43m\"\u001b[39;49m\u001b[43m,\u001b[49m\n\u001b[0;32m     12\u001b[0m \u001b[43m    \u001b[49m\u001b[43mlocal_dir\u001b[49m\u001b[38;5;241;43m=\u001b[39;49m\u001b[43m \u001b[49m\u001b[38;5;124;43m\"\u001b[39;49m\u001b[38;5;124;43mtune_checkpoints\u001b[39;49m\u001b[38;5;124;43m\"\u001b[39;49m\u001b[43m,\u001b[49m\n\u001b[0;32m     13\u001b[0m \u001b[43m    \u001b[49m\u001b[43mtrial_dirname_creator\u001b[49m\u001b[38;5;241;43m=\u001b[39;49m\u001b[43mshort_trial_dirname_creator\u001b[49m\n\u001b[0;32m     14\u001b[0m \u001b[43m)\u001b[49m\n\u001b[0;32m     15\u001b[0m best_trial \u001b[38;5;241m=\u001b[39m analysis\u001b[38;5;241m.\u001b[39mget_best_trial(\u001b[38;5;124m\"\u001b[39m\u001b[38;5;124mval_accuracy\u001b[39m\u001b[38;5;124m\"\u001b[39m, \u001b[38;5;124m\"\u001b[39m\u001b[38;5;124mmax\u001b[39m\u001b[38;5;124m\"\u001b[39m, \u001b[38;5;124m\"\u001b[39m\u001b[38;5;124mall\u001b[39m\u001b[38;5;124m\"\u001b[39m)\n\u001b[0;32m     16\u001b[0m best_hyperparameters \u001b[38;5;241m=\u001b[39m best_trial\u001b[38;5;241m.\u001b[39mconfig\n",
      "File \u001b[1;32m~\\anaconda3\\envs\\cuda_test\\lib\\site-packages\\ray\\tune\\tune.py:1114\u001b[0m, in \u001b[0;36mrun\u001b[1;34m(run_or_experiment, name, metric, mode, stop, time_budget_s, config, resources_per_trial, num_samples, storage_path, search_alg, scheduler, checkpoint_config, verbose, progress_reporter, log_to_file, trial_name_creator, trial_dirname_creator, chdir_to_trial_dir, sync_config, export_formats, max_failures, fail_fast, restore, server_port, resume, reuse_actors, raise_on_failed_trial, callbacks, max_concurrent_trials, keep_checkpoints_num, checkpoint_score_attr, checkpoint_freq, checkpoint_at_end, checkpoint_keep_all_ranks, checkpoint_upload_from_workers, trial_executor, local_dir, _experiment_checkpoint_dir, _remote, _remote_string_queue, _entrypoint)\u001b[0m\n\u001b[0;32m   1112\u001b[0m             _report_air_progress(runner, air_progress_reporter)\n\u001b[0;32m   1113\u001b[0m \u001b[38;5;28;01mexcept\u001b[39;00m \u001b[38;5;167;01mException\u001b[39;00m:\n\u001b[1;32m-> 1114\u001b[0m     \u001b[43mrunner\u001b[49m\u001b[38;5;241;43m.\u001b[39;49m\u001b[43mcleanup\u001b[49m\u001b[43m(\u001b[49m\u001b[43m)\u001b[49m\n\u001b[0;32m   1115\u001b[0m     \u001b[38;5;28;01mraise\u001b[39;00m\n\u001b[0;32m   1117\u001b[0m tune_taken \u001b[38;5;241m=\u001b[39m time\u001b[38;5;241m.\u001b[39mtime() \u001b[38;5;241m-\u001b[39m tune_start\n",
      "File \u001b[1;32m~\\anaconda3\\envs\\cuda_test\\lib\\site-packages\\ray\\tune\\execution\\trial_runner.py:1143\u001b[0m, in \u001b[0;36m_TuneControllerBase.cleanup\u001b[1;34m(self)\u001b[0m\n\u001b[0;32m   1141\u001b[0m \u001b[38;5;28;01mdef\u001b[39;00m \u001b[38;5;21mcleanup\u001b[39m(\u001b[38;5;28mself\u001b[39m):\n\u001b[0;32m   1142\u001b[0m \u001b[38;5;250m    \u001b[39m\u001b[38;5;124;03m\"\"\"Cleanup trials and callbacks.\"\"\"\u001b[39;00m\n\u001b[1;32m-> 1143\u001b[0m     \u001b[38;5;28;43mself\u001b[39;49m\u001b[38;5;241;43m.\u001b[39;49m\u001b[43m_cleanup_trials\u001b[49m\u001b[43m(\u001b[49m\u001b[43m)\u001b[49m\n\u001b[0;32m   1144\u001b[0m     \u001b[38;5;28mself\u001b[39m\u001b[38;5;241m.\u001b[39mend_experiment_callbacks()\n",
      "File \u001b[1;32m~\\anaconda3\\envs\\cuda_test\\lib\\site-packages\\ray\\tune\\execution\\tune_controller.py:424\u001b[0m, in \u001b[0;36mTuneController._cleanup_trials\u001b[1;34m(self)\u001b[0m\n\u001b[0;32m    419\u001b[0m     trial \u001b[38;5;241m=\u001b[39m \u001b[38;5;28mself\u001b[39m\u001b[38;5;241m.\u001b[39m_actor_to_trial[tracked_actor]\n\u001b[0;32m    420\u001b[0m     logger\u001b[38;5;241m.\u001b[39mdebug(\n\u001b[0;32m    421\u001b[0m         \u001b[38;5;124mf\u001b[39m\u001b[38;5;124m\"\u001b[39m\u001b[38;5;124mScheduling trial stop at end of experiment (trial \u001b[39m\u001b[38;5;132;01m{\u001b[39;00mtrial\u001b[38;5;132;01m}\u001b[39;00m\u001b[38;5;124m): \u001b[39m\u001b[38;5;124m\"\u001b[39m\n\u001b[0;32m    422\u001b[0m         \u001b[38;5;124mf\u001b[39m\u001b[38;5;124m\"\u001b[39m\u001b[38;5;132;01m{\u001b[39;00mtracked_actor\u001b[38;5;132;01m}\u001b[39;00m\u001b[38;5;124m\"\u001b[39m\n\u001b[0;32m    423\u001b[0m     )\n\u001b[1;32m--> 424\u001b[0m     \u001b[38;5;28;43mself\u001b[39;49m\u001b[38;5;241;43m.\u001b[39;49m\u001b[43m_schedule_trial_stop\u001b[49m\u001b[43m(\u001b[49m\u001b[43mtrial\u001b[49m\u001b[43m)\u001b[49m\n\u001b[0;32m    426\u001b[0m \u001b[38;5;66;03m# Clean up cached actors now\u001b[39;00m\n\u001b[0;32m    427\u001b[0m \u001b[38;5;28mself\u001b[39m\u001b[38;5;241m.\u001b[39m_cleanup_cached_actors(force_all\u001b[38;5;241m=\u001b[39m\u001b[38;5;28;01mTrue\u001b[39;00m)\n",
      "File \u001b[1;32m~\\anaconda3\\envs\\cuda_test\\lib\\site-packages\\ray\\tune\\execution\\tune_controller.py:951\u001b[0m, in \u001b[0;36mTuneController._schedule_trial_stop\u001b[1;34m(self, trial, exception)\u001b[0m\n\u001b[0;32m    947\u001b[0m \u001b[38;5;28mself\u001b[39m\u001b[38;5;241m.\u001b[39m_actor_to_trial\u001b[38;5;241m.\u001b[39mpop(tracked_actor)\n\u001b[0;32m    949\u001b[0m trial\u001b[38;5;241m.\u001b[39mset_runner(\u001b[38;5;28;01mNone\u001b[39;00m)\n\u001b[1;32m--> 951\u001b[0m \u001b[38;5;28;43mself\u001b[39;49m\u001b[38;5;241;43m.\u001b[39;49m\u001b[43m_remove_actor\u001b[49m\u001b[43m(\u001b[49m\u001b[43mtracked_actor\u001b[49m\u001b[38;5;241;43m=\u001b[39;49m\u001b[43mtracked_actor\u001b[49m\u001b[43m)\u001b[49m\n",
      "File \u001b[1;32m~\\anaconda3\\envs\\cuda_test\\lib\\site-packages\\ray\\tune\\execution\\tune_controller.py:443\u001b[0m, in \u001b[0;36mTuneController._remove_actor\u001b[1;34m(self, tracked_actor)\u001b[0m\n\u001b[0;32m    442\u001b[0m \u001b[38;5;28;01mdef\u001b[39;00m \u001b[38;5;21m_remove_actor\u001b[39m(\u001b[38;5;28mself\u001b[39m, tracked_actor: TrackedActor):\n\u001b[1;32m--> 443\u001b[0m     stop_future \u001b[38;5;241m=\u001b[39m \u001b[38;5;28;43mself\u001b[39;49m\u001b[38;5;241;43m.\u001b[39;49m\u001b[43m_actor_manager\u001b[49m\u001b[38;5;241;43m.\u001b[39;49m\u001b[43mschedule_actor_task\u001b[49m\u001b[43m(\u001b[49m\n\u001b[0;32m    444\u001b[0m \u001b[43m        \u001b[49m\u001b[43mtracked_actor\u001b[49m\u001b[43m,\u001b[49m\u001b[43m \u001b[49m\u001b[38;5;124;43m\"\u001b[39;49m\u001b[38;5;124;43mstop\u001b[39;49m\u001b[38;5;124;43m\"\u001b[39;49m\u001b[43m,\u001b[49m\u001b[43m \u001b[49m\u001b[43m_return_future\u001b[49m\u001b[38;5;241;43m=\u001b[39;49m\u001b[38;5;28;43;01mTrue\u001b[39;49;00m\n\u001b[0;32m    445\u001b[0m \u001b[43m    \u001b[49m\u001b[43m)\u001b[49m\n\u001b[0;32m    446\u001b[0m     now \u001b[38;5;241m=\u001b[39m time\u001b[38;5;241m.\u001b[39mmonotonic()\n\u001b[0;32m    448\u001b[0m     \u001b[38;5;28;01mif\u001b[39;00m \u001b[38;5;28mself\u001b[39m\u001b[38;5;241m.\u001b[39m_actor_manager\u001b[38;5;241m.\u001b[39mremove_actor(\n\u001b[0;32m    449\u001b[0m         tracked_actor, kill\u001b[38;5;241m=\u001b[39m\u001b[38;5;28;01mFalse\u001b[39;00m, stop_future\u001b[38;5;241m=\u001b[39mstop_future\n\u001b[0;32m    450\u001b[0m     ):\n\u001b[0;32m    451\u001b[0m         \u001b[38;5;66;03m# If the actor was previously alive, track\u001b[39;00m\n",
      "File \u001b[1;32m~\\anaconda3\\envs\\cuda_test\\lib\\site-packages\\ray\\air\\execution\\_internal\\actor_manager.py:725\u001b[0m, in \u001b[0;36mRayActorManager.schedule_actor_task\u001b[1;34m(self, tracked_actor, method_name, args, kwargs, on_result, on_error, _return_future)\u001b[0m\n\u001b[0;32m    722\u001b[0m \u001b[38;5;28;01mif\u001b[39;00m tracked_actor \u001b[38;5;129;01mnot\u001b[39;00m \u001b[38;5;129;01min\u001b[39;00m \u001b[38;5;28mself\u001b[39m\u001b[38;5;241m.\u001b[39m_live_actors_to_ray_actors_resources:\n\u001b[0;32m    723\u001b[0m     \u001b[38;5;66;03m# Actor is not started, yet\u001b[39;00m\n\u001b[0;32m    724\u001b[0m     \u001b[38;5;28;01mif\u001b[39;00m tracked_actor \u001b[38;5;129;01mnot\u001b[39;00m \u001b[38;5;129;01min\u001b[39;00m \u001b[38;5;28mself\u001b[39m\u001b[38;5;241m.\u001b[39m_pending_actors_to_attrs:\n\u001b[1;32m--> 725\u001b[0m         \u001b[38;5;28;01mraise\u001b[39;00m \u001b[38;5;167;01mValueError\u001b[39;00m(\n\u001b[0;32m    726\u001b[0m             \u001b[38;5;124mf\u001b[39m\u001b[38;5;124m\"\u001b[39m\u001b[38;5;124mTracked actor is not managed by this event manager: \u001b[39m\u001b[38;5;124m\"\u001b[39m\n\u001b[0;32m    727\u001b[0m             \u001b[38;5;124mf\u001b[39m\u001b[38;5;124m\"\u001b[39m\u001b[38;5;132;01m{\u001b[39;00mtracked_actor\u001b[38;5;132;01m}\u001b[39;00m\u001b[38;5;124m\"\u001b[39m\n\u001b[0;32m    728\u001b[0m         )\n\u001b[0;32m    730\u001b[0m     \u001b[38;5;66;03m# Cache tasks for future execution\u001b[39;00m\n\u001b[0;32m    731\u001b[0m     \u001b[38;5;28mself\u001b[39m\u001b[38;5;241m.\u001b[39m_pending_actors_to_enqueued_actor_tasks[tracked_actor]\u001b[38;5;241m.\u001b[39mappend(\n\u001b[0;32m    732\u001b[0m         (tracked_actor_task, method_name, args, kwargs)\n\u001b[0;32m    733\u001b[0m     )\n",
      "\u001b[1;31mValueError\u001b[0m: Tracked actor is not managed by this event manager: <TrackedActor 171924513043530157891457166155502041864>"
     ]
    }
   ],
   "source": [
    "# Initialize Ray\n",
    "ray.shutdown()\n",
    "ray.init()\n",
    "# Run the Ray Tune experiment\n",
    "analysis = tune.run(\n",
    "    train_val_model,\n",
    "    resources_per_trial={\"cpu\": 1, \"gpu\": 1 if torch.cuda.is_available() else 0},\n",
    "    config=search_space,\n",
    "    num_samples=10,\n",
    "    metric=\"val_accuracy\",\n",
    "    mode=\"max\",\n",
    "    local_dir= \"tune_checkpoints\",\n",
    "    trial_dirname_creator=short_trial_dirname_creator\n",
    ")\n",
    "best_trial = analysis.get_best_trial(\"val_accuracy\", \"max\", \"all\")\n",
    "best_hyperparameters = best_trial.config\n",
    "\n",
    "print(f\"Best hyperparameters: {best_hyperparameters}\")\n",
    "\n",
    "ray.shutdown()"
   ]
  },
  {
   "cell_type": "code",
   "execution_count": null,
   "id": "09ffb774-b368-466f-97ef-bb2cf4d2fd94",
   "metadata": {},
   "outputs": [],
   "source": []
  }
 ],
 "metadata": {
  "kernelspec": {
   "display_name": "Python 3 (ipykernel)",
   "language": "python",
   "name": "python3"
  },
  "language_info": {
   "codemirror_mode": {
    "name": "ipython",
    "version": 3
   },
   "file_extension": ".py",
   "mimetype": "text/x-python",
   "name": "python",
   "nbconvert_exporter": "python",
   "pygments_lexer": "ipython3",
   "version": "3.8.19"
  }
 },
 "nbformat": 4,
 "nbformat_minor": 5
}
